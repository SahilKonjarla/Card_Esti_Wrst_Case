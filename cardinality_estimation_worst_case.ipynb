{
 "cells": [
  {
   "cell_type": "code",
   "execution_count": 96,
   "id": "fd9d32b1-6f52-43ce-b795-c8aa4f3b585e",
   "metadata": {
    "scrolled": true
   },
   "outputs": [],
   "source": [
    "#  Import statements for start\n",
    "import pandas as pd\n",
    "import numpy as np\n",
    "import matplotlib.pyplot as plt\n",
    "import psycopg2\n",
    "import seaborn as sns\n",
    "import re\n",
    "from typing import List, Dict"
   ]
  },
  {
   "cell_type": "code",
   "execution_count": 94,
   "id": "baa3ed85-97a1-4c04-bcc6-a20fcb4b6973",
   "metadata": {},
   "outputs": [
    {
     "name": "stdout",
     "output_type": "stream",
     "text": [
      "Connection Successful\n"
     ]
    }
   ],
   "source": [
    "# Connect to PostgreSQL database to access dataset\n",
    "\n",
    "# Connection details\n",
    "dbname = \"cse214\"\n",
    "user = \"sahil\"\n",
    "host=\"localhost\"\n",
    "port=\"5432\"\n",
    "\n",
    "# Initialize connection\n",
    "conn = psycopg2.connect(\n",
    "        dbname=dbname,\n",
    "        user=user,\n",
    "        host=host,\n",
    "        port=port\n",
    "    )\n",
    "print(\"Connection Successful\")"
   ]
  },
  {
   "cell_type": "code",
   "execution_count": 143,
   "id": "3ae85b91-ac43-4405-973c-d2e1b3b64d86",
   "metadata": {},
   "outputs": [],
   "source": [
    "class SQLParser:\n",
    "    def __init__(self, query, connection):\n",
    "        self.query = query\n",
    "        self.tables = []\n",
    "        self.predicates = []\n",
    "        self.joins = []\n",
    "        self.columns = []\n",
    "\n",
    "    def parse(self):\n",
    "        from_pattern = r\"FROM\\s+(\\w+)\\s+\\w+\"\n",
    "        join_pattern = r\"JOIN\\s+(\\w+)\\s+\\w+\"\n",
    "        self.tables.extend(re.findall(from_pattern, self.query))\n",
    "        self.tables.extend(re.findall(join_pattern, self.query))\n",
    "\n",
    "        join_condition_pattern = r\"ON\\s+([\\w.]+)\\s*=\\s*([\\w.]+)\"\n",
    "        join_conditions = re.findall(join_condition_pattern, self.query)\n",
    "        self.joins.extend(join_conditions)\n",
    "        self._extract_columns_from_joins(join_conditions)\n",
    "\n",
    "        where_pattern = r\"WHERE\\s+(.+)\"\n",
    "        where_match = re.search(where_pattern, self.query)\n",
    "        if where_match:\n",
    "            predicates = where_match.group(1).split(\"AND\")\n",
    "            self.predicates.extend([pred.strip() for pred in predicates])\n",
    "            self._extract_columns_from_predicates(predicates)\n",
    "\n",
    "    def _extract_columns_from_joins(self, join_conditions):\n",
    "        for left_col, right_col in join_conditions:\n",
    "            left_column_name = self._extract_column_name(left_col)\n",
    "            right_column_name = self._extract_column_name(right_col)\n",
    "    \n",
    "            if left_column_name not in self.columns:\n",
    "                self.columns.append(left_column_name)\n",
    "            if right_column_name not in self.columns:\n",
    "                self.columns.append(right_column_name)\n",
    "    \n",
    "    def _extract_columns_from_predicates(self, predicates):\n",
    "        column_pattern = r\"([\\w.]+)\\s*[<>=!]+\\s*[\\w.]+\"\n",
    "        for predicate in predicates:\n",
    "            match = re.search(column_pattern, predicate.strip())\n",
    "            if match:\n",
    "                column_name = self._extract_column_name(match.group(1))\n",
    "                if column_name not in self.columns:\n",
    "                    self.columns.append(column_name)\n",
    "    \n",
    "    def _extract_column_name(self, column: str) -> str:\n",
    "        return column.split(\".\")[-1]\n",
    "\n",
    "\n",
    "    def get_parsed_data(self) -> Dict[str, List]:\n",
    "        return {\n",
    "            \"tables\": self.tables,\n",
    "            \"joins\": [\" = \".join(join) for join in self.joins],\n",
    "            \"predicates\": self.predicates,\n",
    "            \"columns\": self.columns\n",
    "        }"
   ]
  },
  {
   "cell_type": "code",
   "execution_count": 144,
   "id": "adf38f1b-c700-47eb-87ab-51af8ac2aed6",
   "metadata": {},
   "outputs": [
    {
     "name": "stdout",
     "output_type": "stream",
     "text": [
      "Tables: ['e_small', 'edges']\n",
      "Joins: ['e1.target = e2.source']\n",
      "Predicates: ['e1.source = 1000', 'e2.target < 500;']\n",
      "Columns: ['target', 'source']\n"
     ]
    }
   ],
   "source": [
    "query = \"\"\"\n",
    "SELECT * \n",
    "FROM e_small e1 \n",
    "JOIN edges e2 \n",
    "ON e1.target = e2.source \n",
    "WHERE e1.source = 1000 AND e2.target < 500;\n",
    "\"\"\"\n",
    "parser = SQLParser(query, conn)\n",
    "parse = parser.parse()\n",
    "parsed_data = parser.get_parsed_data()\n",
    "\n",
    "print(\"Tables:\", parsed_data[\"tables\"])\n",
    "print(\"Joins:\", parsed_data[\"joins\"])\n",
    "print(\"Predicates:\", parsed_data[\"predicates\"])\n",
    "print(\"Columns:\", parsed_data[\"columns\"])"
   ]
  },
  {
   "cell_type": "code",
   "execution_count": 140,
   "id": "6ba7c0eb-2d11-4946-abd4-5f24308f534a",
   "metadata": {},
   "outputs": [],
   "source": [
    "class cardinality_estimation:\n",
    "    def __init__(self, parsed_query):\n",
    "        self.parsed_query = parsed_query\n",
    "    \n",
    "    def cardinality(self):\n",
    "        try:\n",
    "            cursor = self.connection.cursor()\n",
    "\n",
    "            query = f\"\"\"\n",
    "            SELECT SUM(out_table.out_degree * in_table.in_degree) AS worst_case_cardinality\n",
    "            FROM (\n",
    "                SELECT {self.columns[0]} AS join_key, COUNT(*) AS out_degree\n",
    "                FROM {self.tables[0]}\n",
    "                GROUP BY {self.columns[0]}\n",
    "            ) AS out_table\n",
    "            JOIN (\n",
    "                SELECT {self.columns[1]} AS join_key, COUNT(*) AS in_degree\n",
    "                FROM {self.tables[1]}\n",
    "                GROUP BY {self.columns[1]}\n",
    "            ) AS in_table\n",
    "            ON out_table.join_key = in_table.join_key;\n",
    "            \"\"\"\n",
    "\n",
    "            cursor.execute(query)\n",
    "            result = cursor.fetchone()[0]\n",
    "            cursor.close()\n",
    "\n",
    "            return result\n",
    "        except Exception as e:\n",
    "            print(f\"Error calculating degree sequences: {e}\")\n",
    "            return None"
   ]
  },
  {
   "cell_type": "code",
   "execution_count": null,
   "id": "c4646bbd-230b-47ab-9fb8-d2df629f7b86",
   "metadata": {},
   "outputs": [],
   "source": []
  }
 ],
 "metadata": {
  "kernelspec": {
   "display_name": "Python 3.13",
   "language": "python",
   "name": "python3.13"
  },
  "language_info": {
   "codemirror_mode": {
    "name": "ipython",
    "version": 3
   },
   "file_extension": ".py",
   "mimetype": "text/x-python",
   "name": "python",
   "nbconvert_exporter": "python",
   "pygments_lexer": "ipython3",
   "version": "3.13.1"
  }
 },
 "nbformat": 4,
 "nbformat_minor": 5
}
