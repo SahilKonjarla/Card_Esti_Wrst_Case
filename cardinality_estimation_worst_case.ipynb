{
 "cells": [
  {
   "cell_type": "code",
   "execution_count": 5,
   "id": "fd9d32b1-6f52-43ce-b795-c8aa4f3b585e",
   "metadata": {
    "scrolled": true
   },
   "outputs": [],
   "source": [
    "#  Import statements for start\n",
    "import pandas as pd\n",
    "import numpy as np\n",
    "import matplotlib.pyplot as plt\n",
    "import sqlparse\n",
    "import psycopg2\n",
    "import seaborn as sns"
   ]
  },
  {
   "cell_type": "code",
   "execution_count": 16,
   "id": "baa3ed85-97a1-4c04-bcc6-a20fcb4b6973",
   "metadata": {},
   "outputs": [
    {
     "name": "stdout",
     "output_type": "stream",
     "text": [
      "Connection Successful\n",
      "Query result: (5092,)\n"
     ]
    }
   ],
   "source": [
    "# Connect to PostgreSQL database to access dataset\n",
    "\n",
    "# Connection details\n",
    "dbname = \"cse214\"\n",
    "user = \"sahil\"\n",
    "host=\"localhost\"\n",
    "port=\"5432\"\n",
    "\n",
    "# Initialize connection\n",
    "conn = psycopg2.connect(\n",
    "        dbname=dbname,\n",
    "        user=user,\n",
    "        host=host,\n",
    "        port=port\n",
    "    )\n",
    "print(\"Connection Successful\")\n",
    "cursor = conn.cursor()\n",
    "\n",
    "try:\n",
    "    # Test query\n",
    "    cursor = conn.cursor()\n",
    "    cursor.execute(\"SELECT COUNT(*) FROM e_small;\")\n",
    "    rows = cursor.fetchall()\n",
    "    for row in rows:\n",
    "        print(\"Query result:\", row)\n",
    "        \n",
    "except Exception as e:\n",
    "    print(\"An Error Occured:\", e)\n"
   ]
  },
  {
   "cell_type": "code",
   "execution_count": 19,
   "id": "8fcecbc1-30ba-4eaa-9120-eb74f10b71c9",
   "metadata": {},
   "outputs": [
    {
     "name": "stdout",
     "output_type": "stream",
     "text": [
      "Out-Degree Results:\n",
      "(0, 138)\n",
      "(27, 86)\n",
      "(34, 82)\n",
      "(145, 82)\n",
      "(31, 73)\n",
      "(12, 72)\n",
      "(30, 72)\n",
      "(25, 71)\n",
      "(44, 70)\n",
      "(1, 68)\n",
      "In-Degree Results:\n",
      "(0, 150)\n",
      "(27, 98)\n",
      "(34, 95)\n",
      "(30, 87)\n",
      "(74, 86)\n",
      "(18, 84)\n",
      "(103, 77)\n",
      "(12, 77)\n",
      "(31, 72)\n",
      "(102, 70)\n"
     ]
    }
   ],
   "source": [
    "# Compute the degree sequences\n",
    "try:\n",
    "    # Calculate the Out-Degree\n",
    "    cursor.execute(\n",
    "        \"SELECT source, COUNT(*) AS out_degree FROM e_small GROUP BY source ORDER BY out_degree DESC LIMIT 10;\"\n",
    "    )\n",
    "    rows = cursor.fetchall()\n",
    "    print(\"Out-Degree Results:\")\n",
    "    for row in rows:\n",
    "        print(row)\n",
    "\n",
    "    # Calculate the In-Degree\n",
    "    cursor.execute(\n",
    "        \"SELECT target, COUNT(*) AS in_degree FROM e_small GROUP BY target ORDER BY in_degree DESC LIMIT 10;\"    \n",
    "    )\n",
    "    rows = cursor.fetchall()\n",
    "    print(\"In-Degree Results:\")\n",
    "    for row in rows:\n",
    "        print(row)\n",
    "        \n",
    "except Exception as e:\n",
    "    print(\"An Error Occured:\", e)"
   ]
  },
  {
   "cell_type": "code",
   "execution_count": null,
   "id": "3ae85b91-ac43-4405-973c-d2e1b3b64d86",
   "metadata": {},
   "outputs": [],
   "source": []
  }
 ],
 "metadata": {
  "kernelspec": {
   "display_name": "Python 3.13",
   "language": "python",
   "name": "python3.13"
  },
  "language_info": {
   "codemirror_mode": {
    "name": "ipython",
    "version": 3
   },
   "file_extension": ".py",
   "mimetype": "text/x-python",
   "name": "python",
   "nbconvert_exporter": "python",
   "pygments_lexer": "ipython3",
   "version": "3.13.1"
  }
 },
 "nbformat": 4,
 "nbformat_minor": 5
}
